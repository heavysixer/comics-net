{
 "cells": [
  {
   "cell_type": "code",
   "execution_count": 6,
   "metadata": {
    "collapsed": true
   },
   "outputs": [],
   "source": [
    "from PIL import Image"
   ]
  },
  {
   "cell_type": "code",
   "execution_count": 7,
   "metadata": {},
   "outputs": [
    {
     "data": {
      "text/plain": [
       "(400, 608)"
      ]
     },
     "execution_count": 7,
     "metadata": {},
     "output_type": "execute_result"
    }
   ],
   "source": [
    "width, height"
   ]
  },
  {
   "cell_type": "code",
   "execution_count": 8,
   "metadata": {},
   "outputs": [],
   "source": [
    "import os\n",
    "\n",
    "covers = os.listdir('covers')"
   ]
  },
  {
   "cell_type": "code",
   "execution_count": 9,
   "metadata": {
    "collapsed": true
   },
   "outputs": [],
   "source": [
    "dims = []\n",
    "for cover in covers:\n",
    "    im = Image.open('covers/' + cover)\n",
    "    width, height = im.size\n",
    "    dims.append((width, height))"
   ]
  },
  {
   "cell_type": "code",
   "execution_count": 24,
   "metadata": {},
   "outputs": [
    {
     "data": {
      "text/plain": [
       "(400, 616)    0.070699\n",
       "(400, 618)    0.135899\n",
       "(400, 614)    0.198743\n",
       "(400, 607)    0.259230\n",
       "(400, 617)    0.318146\n",
       "(400, 613)    0.373920\n",
       "(400, 615)    0.429694\n",
       "(400, 612)    0.469756\n",
       "(400, 619)    0.509034\n",
       "(400, 611)    0.546740\n",
       "(400, 620)    0.583661\n",
       "(400, 606)    0.617439\n",
       "(400, 609)    0.645719\n",
       "(400, 610)    0.671642\n",
       "(400, 622)    0.696779\n",
       "(400, 621)    0.720346\n",
       "(400, 608)    0.743126\n",
       "(400, 623)    0.765122\n",
       "(400, 605)    0.784760\n",
       "(400, 624)    0.803614\n",
       "(400, 604)    0.818539\n",
       "(400, 625)    0.832679\n",
       "(400, 603)    0.846033\n",
       "(400, 600)    0.858602\n",
       "(400, 601)    0.868814\n",
       "(400, 598)    0.879026\n",
       "(400, 599)    0.887667\n",
       "(400, 602)    0.896308\n",
       "(400, 597)    0.903378\n",
       "(400, 626)    0.910448\n",
       "dtype: float64"
      ]
     },
     "execution_count": 24,
     "metadata": {},
     "output_type": "execute_result"
    }
   ],
   "source": [
    "import pandas as pd\n",
    "\n",
    "pd.Series(pd.Series(dims).value_counts() / len(dims)).cumsum()[:30]"
   ]
  },
  {
   "cell_type": "code",
   "execution_count": 26,
   "metadata": {},
   "outputs": [
    {
     "data": {
      "text/plain": [
       "Index([(400, 616), (400, 618), (400, 614), (400, 607), (400, 617), (400, 613),\n",
       "       (400, 615), (400, 612), (400, 619), (400, 611), (400, 620), (400, 606),\n",
       "       (400, 609), (400, 610), (400, 622), (400, 621), (400, 608), (400, 623),\n",
       "       (400, 605), (400, 624), (400, 604), (400, 625), (400, 603), (400, 600),\n",
       "       (400, 601), (400, 598), (400, 599), (400, 602), (400, 597), (400, 626)],\n",
       "      dtype='object')"
      ]
     },
     "execution_count": 26,
     "metadata": {},
     "output_type": "execute_result"
    }
   ],
   "source": [
    "top_dims = pd.Series(pd.Series(dims).value_counts() / len(dims)).cumsum()[:30].index\n",
    "top_dims"
   ]
  },
  {
   "cell_type": "code",
   "execution_count": 33,
   "metadata": {},
   "outputs": [
    {
     "name": "stdout",
     "output_type": "stream",
     "text": [
      "611.5 \n",
      "\n",
      "611.5\n"
     ]
    }
   ],
   "source": [
    "print pd.Series(map(lambda x: x[1], top_dims)).mean(), '\\n'\n",
    "print pd.Series(map(lambda x: x[1], top_dims)).median()"
   ]
  },
  {
   "cell_type": "code",
   "execution_count": null,
   "metadata": {
    "collapsed": true
   },
   "outputs": [],
   "source": []
  }
 ],
 "metadata": {
  "kernelspec": {
   "display_name": "Python 2",
   "language": "python",
   "name": "python2"
  },
  "language_info": {
   "codemirror_mode": {
    "name": "ipython",
    "version": 2
   },
   "file_extension": ".py",
   "mimetype": "text/x-python",
   "name": "python",
   "nbconvert_exporter": "python",
   "pygments_lexer": "ipython2",
   "version": "2.7.13"
  }
 },
 "nbformat": 4,
 "nbformat_minor": 2
}

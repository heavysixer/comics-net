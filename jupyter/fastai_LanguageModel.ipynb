{
 "cells": [
  {
   "cell_type": "code",
   "execution_count": 187,
   "metadata": {},
   "outputs": [],
   "source": [
    "%reload_ext autoreload\n",
    "%autoreload 2\n",
    "%matplotlib inline"
   ]
  },
  {
   "cell_type": "code",
   "execution_count": 188,
   "metadata": {},
   "outputs": [],
   "source": [
    "from fastai import *\n",
    "from fastai.text import *"
   ]
  },
  {
   "cell_type": "code",
   "execution_count": 189,
   "metadata": {},
   "outputs": [],
   "source": [
    "# bs=48\n",
    "# bs=24\n",
    "# bs=192\n",
    "bs=512"
   ]
  },
  {
   "cell_type": "code",
   "execution_count": 190,
   "metadata": {},
   "outputs": [],
   "source": [
    "data = (TextList.from_csv(\"./text\", 'superhero_synopsis.csv', cols='text')\n",
    "#                 .split_from_df(col=2)\n",
    "                .split_none()\n",
    "                .label_from_df(cols=0)\n",
    "                .databunch())"
   ]
  },
  {
   "cell_type": "code",
   "execution_count": 191,
   "metadata": {},
   "outputs": [],
   "source": [
    "data_lm = (TextList.from_csv(\"./text\", 'superhero_synopsis.csv', cols='text')\n",
    "           #Inputs: all the text files in path\n",
    "#             .filter_by_folder(include=['train', 'test', 'unsup']) \n",
    "           #We may have other temp folders that contain text files so we only keep what's in train and test\n",
    "            .split_by_rand_pct(0.1, seed=42)\n",
    "           #We randomly split and keep 10% (10,000 reviews) for validation\n",
    "            .label_for_lm()           \n",
    "           #We want to do a language model so we label accordingly\n",
    "            .databunch(bs=bs, num_workers=1))"
   ]
  },
  {
   "cell_type": "code",
   "execution_count": 192,
   "metadata": {},
   "outputs": [
    {
     "data": {
      "text/plain": [
       "(17392, 23259)"
      ]
     },
     "execution_count": 192,
     "metadata": {},
     "output_type": "execute_result"
    }
   ],
   "source": [
    "len(data_lm.vocab.itos),len(data_lm.train_ds)"
   ]
  },
  {
   "cell_type": "code",
   "execution_count": 193,
   "metadata": {},
   "outputs": [
    {
     "data": {
      "text/html": [
       "<table border=\"1\" class=\"dataframe\">\n",
       "  <thead>\n",
       "    <tr style=\"text-align: right;\">\n",
       "      <th>idx</th>\n",
       "      <th>text</th>\n",
       "    </tr>\n",
       "  </thead>\n",
       "  <tbody>\n",
       "    <tr>\n",
       "      <td>0</td>\n",
       "      <td>| xxmaj match 1 ! xxmaj magneto , the xxmaj master of xxmaj magnetism versus the xxmaj invincible xxmaj iron xxmaj man over xxmaj utopia . | xxmaj match 2 ! xxmaj the xxmaj thing versus xxmaj namor the xxmaj sub - xxmaj mariner under xxmaj utopia . xxbos xxmaj humorous explanation of the series and story credits . | xxmaj match 1 ! xxmaj magneto , the xxmaj master</td>\n",
       "    </tr>\n",
       "    <tr>\n",
       "      <td>1</td>\n",
       "      <td>and he and xxmaj bob investigate , aided by xxmaj miss xxup x. xxmaj they end up captured by the xxmaj xxunk and his new creations , the xxmaj rat - xxmaj men . | xxmaj on a plane to xxmaj hollywood , where xxmaj clip will act as technical advisor on an adventure film , he runs into xxmaj buzz xxmaj bailey . xxmaj buzz is greeted by a</td>\n",
       "    </tr>\n",
       "    <tr>\n",
       "      <td>2</td>\n",
       "      <td>his gang in code . xxmaj while at his headquarters , various xxunk are tricked out as weapons : one that shoots xxunk acid and another loaded with dynamite . xxmaj he and his gang are captured by the xxmaj vigilante and xxmaj stuff . | xxmaj bill exposes a plot to steal diamonds from a mine owner by using a secret entrance to his mine . xxbos xxmaj after</td>\n",
       "    </tr>\n",
       "    <tr>\n",
       "      <td>3</td>\n",
       "      <td>with a treasure xxunk of jewels . xxbos xxmaj xxunk xxmaj evans invents a machine for collecting xxunk , but a pair of criminals try to steal it . xxmaj bill uses the machine itself to capture the crooks . xxbos xxmaj bill stops some pearl thieves using a volcano . xxbos xxmaj bill stops the smuggling of illegally obtained artifacts from xxmaj mexico . | xxmaj an article on</td>\n",
       "    </tr>\n",
       "    <tr>\n",
       "      <td>4</td>\n",
       "      <td>xxbos xxmaj exposure to the military 's new secret weapon , the xxunk - xxmaj bomb splits xxmaj superman into two almost equal selves . xxmaj one has x - ray vision , the other telescopic , but otherwise they 're equal . | xxmaj congo xxmaj bill has to capture a white lion , a tri - colored xxunk and a flying ostrich . xxbos a freak accident gives</td>\n",
       "    </tr>\n",
       "    <tr>\n",
       "      <td>5</td>\n",
       "      <td>. xxbos xxmaj lois creates a comic strip about a superhero called xxmaj mental xxmaj man . xxmaj when xxmaj mental xxmaj man suddenly appears he falls in love with xxmaj lois , but it 's a hoax by xxmaj superman and xxmaj aquaman to capture \" xxmaj ace \" xxmaj xxunk . | xxmaj fred loses his temper all the time until he is confronted by xxmaj joe .</td>\n",
       "    </tr>\n",
       "    <tr>\n",
       "      <td>6</td>\n",
       "      <td>xxunk bully who demands to be elected king of the world , threatening the xxmaj united xxmaj nations with his super - powers . xxmaj clark decides to form an anti - xxmaj superman underground movement to overthrow his evil duplicate . | xxmaj on xxmaj valentine 's xxmaj day , xxmaj comet watches as xxmaj supergirl is xxunk with affection , and he wishes that he could also express</td>\n",
       "    </tr>\n",
       "    <tr>\n",
       "      <td>7</td>\n",
       "      <td>her existence to xxmaj jimmy xxmaj olsen but xxmaj jimmy has temporarily lost his sight and does not believe that a xxmaj supergirl exists . | xxmaj binky advises his friend xxmaj tim against dropping out of high school . | xxmaj no . 1 of a series where readers can inform the xxup d.c. staff of any xxup d.c. stories in other media . xxbos xxmaj superman and xxmaj</td>\n",
       "    </tr>\n",
       "    <tr>\n",
       "      <td>8</td>\n",
       "      <td>and announces that he now controls the xxmaj legionnaires ' powers and there is nothing they can do about it . xxmaj but xxmaj saturn xxmaj girl comes up with a serum to temporarily cure xxmaj mon - xxmaj el and immunize him against lead , and xxmaj superboy releases him from the xxmaj phantom xxmaj zone to knock out xxmaj urthlo , who turns out to be an automaton</td>\n",
       "    </tr>\n",
       "    <tr>\n",
       "      <td>9</td>\n",
       "      <td>confuses xxmaj brainiac so that xxmaj superman can trace xxmaj queen xxmaj bee 's xxmaj bee - xxmaj men back to her lair and free the xxmaj justice xxmaj league , who then capture her and the other villains . | xxmaj one - panel recaps of stories from xxmaj sea xxmaj devils # 2 - 3 , 6 - 9 , and 12 . | xxmaj after watching a</td>\n",
       "    </tr>\n",
       "  </tbody>\n",
       "</table>"
      ],
      "text/plain": [
       "<IPython.core.display.HTML object>"
      ]
     },
     "metadata": {},
     "output_type": "display_data"
    }
   ],
   "source": [
    "data_lm.show_batch(10)"
   ]
  },
  {
   "cell_type": "code",
   "execution_count": 194,
   "metadata": {},
   "outputs": [
    {
     "name": "stderr",
     "output_type": "stream",
     "text": [
      "/Users/smacrae/github/comics-net/.venv/lib/python3.6/site-packages/torch/serialization.py:292: UserWarning: Couldn't retrieve source code for container of type CrossEntropyLoss. It won't be checked for correctness upon loading.\n",
      "  \"type \" + obj.__name__ + \". It won't be checked \"\n"
     ]
    }
   ],
   "source": [
    "data_lm.save('lm_superhero_databunch')"
   ]
  },
  {
   "cell_type": "code",
   "execution_count": 195,
   "metadata": {},
   "outputs": [],
   "source": [
    "data_lm = load_data(\"./text\", 'lm_superhero_databunch', bs=bs)"
   ]
  },
  {
   "cell_type": "code",
   "execution_count": 200,
   "metadata": {},
   "outputs": [],
   "source": [
    "learn_lm = language_model_learner(data=data_lm, arch=AWD_LSTM, drop_mult=0.2)"
   ]
  },
  {
   "cell_type": "code",
   "execution_count": 201,
   "metadata": {},
   "outputs": [],
   "source": [
    "TEXT = \"Batman and Robin\"\n",
    "N_WORDS = 200\n",
    "N_SENTENCES = 5"
   ]
  },
  {
   "cell_type": "code",
   "execution_count": 202,
   "metadata": {},
   "outputs": [
    {
     "name": "stdout",
     "output_type": "stream",
     "text": [
      "Batman and Robin Hood = first TV series of comic book comics , for the Disney Channel , Arab Airlines and DC Comics . The series first appeared on April 3 , 1985 , in the United Kingdom , and was released on TV in North America on October 12 , 1991 . The film is an animated comedy that takes place in a fictional town , and features the \" Batman in the Dark \" , a asylum - seekers , superheroes , including Batman , Robin Hood , Robin Hood , Batman , Robin , Robin , Robin , The Wizard of Oz , and Richard Wagner . The films were based on the Batman or Batman have been released for the original series . On August 25 , 1996 , Warner Home Video released an episode of the series that was titled \" Batman : The Dark Knight \" . It had a charging\n",
      "\n",
      "Batman and Robin Hood : An American Gangster = . Batman : The Batman and Defender is a sequel to Batman : Arkham City ( 2011 ) and Batman IV : The Alien ( 2013 ) . He wanted to create a new x - Men film because the new Batman would not be an \" ultimate villain \" ; he began to develop the role among characters and as the lead - in to the series from previous films . He had only begun working on the sequel two months earlier . They were very influenced by Batman : a Space Spy , where Batman was continually experimenting on the plans of he and Barbara Gordon , a character who was known for his ability to deal with other villains and ongoing conflict in films . In the film , Gotham is one of the five main characters in Batman Begins , but is the main antagonist of the Batman series . After Batman & Robin ( 1982\n",
      "\n",
      "Batman and Robin Hood = a Batman : Arkham Origins is a DC Universe comic book which follows the character of Gotham City Detective Inspector Dick Commissioner Gordon Gordon , who began a visit to Gotham City from the escape of an honest Gordon Brown and her family . The character was first introduced in season one by Jimmy Carter , who was the friend of the characters of Dr. 76 and Batman Forever for Joker 's Revenge . Agency editor David Gordon interviewed Gordon , who Gordon felt was a character who could not be portrayed as \" tremendous \" . Brown was inspired to make the character of Gordon Brown , a African - American superhero and character who has been a common theme in the series since it was written in the early months of Brown 's time . Brown is a character whose style is often seen reaching the darker aspects of the show . Brown was given the\n",
      "\n",
      "Batman and Robin Hood = during the Batman era is a series of comics and comics based on the comic book Robin Hood : The Dark Knight , by British singer - writer , John Nixon . The series was published by Warner Home Video from September 17 , 1988 to November 14 , 1988 , with the primary character Batman International Batman — Robin Hood — whose character is the first in the series . The Joker is an self - dealing soldier who is able to turn his memories into Batman and ultimately uncle to a high - ranking American , Gordon Bennett . Although he is the sixth - highest - ranking hero in Batman 's history , he is one of only five Gotham City characters who have been featured in a history of Batman . The character is also portrayed as a Joker , who is committed to his work by the Joker , who had been the merely \" Joker \"\n",
      "\n",
      "Batman and Robin Hood = a comic book series written by Bob Anderson , based on the Bob Visits comic book series ( 1983 ) , and published by Warner Books . The series is developed as a sequel to the 1953 film Loyalty , a stand - alone fictional game focusing on the nuclear war between Israel and Germany . The story follows a Anderson Cooper , who lives with his mother Palmer in Wolverine 's home town of Correction , Oregon , in an abandoned rural city by the police . As a result , two other characters return to their country , and return to Springfield . In the United States , the creation of the Thompson Case was replaced by Rob Christmas , who replaced him in The Amazing Adventures of Edgar Allan Poe . The series also marked a return to the original Scarlet Cloth of Vietnam . Throughout the series , Anderson had to focus on more science\n"
     ]
    }
   ],
   "source": [
    "print((2*\"\\n\").join(learn_lm.predict(TEXT, N_WORDS, temperature=0.80) for _ in range(N_SENTENCES)))"
   ]
  }
 ],
 "metadata": {
  "kernelspec": {
   "display_name": "comics-net (env)",
   "language": "python",
   "name": "comics-net"
  },
  "language_info": {
   "codemirror_mode": {
    "name": "ipython",
    "version": 3
   },
   "file_extension": ".py",
   "mimetype": "text/x-python",
   "name": "python",
   "nbconvert_exporter": "python",
   "pygments_lexer": "ipython3",
   "version": "3.6.9"
  }
 },
 "nbformat": 4,
 "nbformat_minor": 4
}

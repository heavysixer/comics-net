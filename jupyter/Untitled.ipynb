{
 "cells": [
  {
   "cell_type": "code",
   "execution_count": null,
   "metadata": {},
   "outputs": [],
   "source": [
    "from jupyter_innotater import *\n",
    "import numpy as np, os\n",
    "\n",
    "animalfns = sorted(os.listdir('../covers/'))\n",
    "\n",
    "repeats = 4\n",
    "\n",
    "# Per-photo data\n",
    "targets_exclude = np.zeros((len(animalfns), 1), dtype='int') # Binary flag to indicate want to exclude from dataset\n",
    "\n",
    "# Repeats within each photo\n",
    "classes = ['Cat - Shorthair tabby', 'Cat - Shorthair ginger', 'Dog - Labrador', 'Dog - Beagle', 'Dog - Terrier']\n",
    "targets_breed = np.zeros((len(animalfns), len(classes)), dtype='int')\n",
    "targets_bboxes = np.zeros((len(animalfns), repeats, 4), dtype='int') # (x,y,w,h) for each animal\n",
    "\n",
    "Innotater(\n",
    "    [\n",
    "        ImageInnotation(animalfns, path='../covers/', width=370, height=280), # Display the image itself\n",
    "        TextInnotation(animalfns, multiline=False) # Display the image filename\n",
    "    ],\n",
    "    [\n",
    "        BinaryClassInnotation(targets_breed, name='Exclude'), # Checkbox\n",
    "        RepeatInnotation(\n",
    "            (BoundingBoxInnotation, targets_bboxes), # Individual animal bounding box\n",
    "            (MultiClassInnotation, targets_breed,\n",
    "                {'name':'Breed', 'classes':classes, 'dropdown':True}), # Per-animal breed dropdown\n",
    "            max_repeats=repeats, min_repeats=1\n",
    "        )\n",
    "    ]\n",
    ")"
   ]
  },
  {
   "cell_type": "code",
   "execution_count": null,
   "metadata": {},
   "outputs": [],
   "source": [
    "# from jupyter_innotater import *\n",
    "# import numpy as np, os\n",
    "\n",
    "# images = os.listdir('../covers/')\n",
    "# targets = np.zeros((len(images), 4)) # Initialise bounding boxes as x,y = 0,0, width,height = 0,0\n",
    "\n",
    "# Innotater( ImageInnotation(images, path='../covers/'), BoundingBoxInnotation(targets) )"
   ]
  },
  {
   "cell_type": "code",
   "execution_count": 2,
   "metadata": {},
   "outputs": [
    {
     "data": {
      "text/plain": [
       "350000"
      ]
     },
     "execution_count": 2,
     "metadata": {},
     "output_type": "execute_result"
    }
   ],
   "source": [
    "1_150_000 - 800_000"
   ]
  },
  {
   "cell_type": "code",
   "execution_count": null,
   "metadata": {},
   "outputs": [],
   "source": []
  }
 ],
 "metadata": {
  "kernelspec": {
   "display_name": "comics-net (env)",
   "language": "python",
   "name": "comics-net"
  },
  "language_info": {
   "codemirror_mode": {
    "name": "ipython",
    "version": 3
   },
   "file_extension": ".py",
   "mimetype": "text/x-python",
   "name": "python",
   "nbconvert_exporter": "python",
   "pygments_lexer": "ipython3",
   "version": "3.6.9"
  }
 },
 "nbformat": 4,
 "nbformat_minor": 4
}
